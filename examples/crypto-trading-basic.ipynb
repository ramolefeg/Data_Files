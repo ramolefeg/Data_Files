{
  "cells": [
    {
      "cell_type": "markdown",
      "metadata": {
        "id": "wSl97x0EYUmQ"
      },
      "source": [
        "# Alpaca-py crypto trading basic"
      ]
    },
    {
      "cell_type": "markdown",
      "metadata": {
        "id": "3tloTjopYUmW"
      },
      "source": [
        "[![Open In Colab](https://colab.research.google.com/assets/colab-badge.svg)](https://colab.research.google.com/github/alpacahq/alpaca-py/blob/master/examples/crypto-trading-basic.ipynb)"
      ]
    },
    {
      "cell_type": "markdown",
      "metadata": {
        "id": "Yw785xPQYUmX"
      },
      "source": [
        "- This notebook shows how to use alpaca-py with crypto trading API endpoints\n",
        "- Please use ``paper account``. Please ``DO NOT`` use this notebook with live account. In this notebook, we place orders for crypto as an example."
      ]
    },
    {
      "cell_type": "code",
      "execution_count": 1,
      "metadata": {
        "id": "SlRTQAbVYUmY"
      },
      "outputs": [],
      "source": [
        "# Please change the following to your own PAPER api key and secret\n",
        "# You can get them from https://alpaca.markets/\n",
        "\n",
        "api_key = \"\"\n",
        "secret_key = \"\"\n",
        "\n",
        "#### We use paper environment for this example ####\n",
        "paper = True # Please do not modify this. This example is for paper trading only.\n",
        "####\n",
        "\n",
        "# Below are the variables for development this documents\n",
        "# Please do not change these variables\n",
        "trade_api_url = None\n",
        "trade_api_wss = None\n",
        "data_api_url = None\n",
        "stream_data_wss = None"
      ]
    },
    {
      "cell_type": "code",
      "execution_count": 2,
      "metadata": {
        "colab": {
          "base_uri": "https://localhost:8080/"
        },
        "id": "-69hxllrYUmb",
        "outputId": "c9d38b88-9484-4df0-c5cc-e0636b3b39dc"
      },
      "outputs": [
        {
          "output_type": "stream",
          "name": "stdout",
          "text": [
            "Collecting alpaca-py\n",
            "  Downloading alpaca_py-0.34.0-py3-none-any.whl.metadata (12 kB)\n",
            "Requirement already satisfied: msgpack<2.0.0,>=1.0.3 in /usr/local/lib/python3.10/dist-packages (from alpaca-py) (1.1.0)\n",
            "Requirement already satisfied: pandas>=1.5.3 in /usr/local/lib/python3.10/dist-packages (from alpaca-py) (2.2.2)\n",
            "Requirement already satisfied: pydantic<3.0.0,>=2.0.3 in /usr/local/lib/python3.10/dist-packages (from alpaca-py) (2.10.3)\n",
            "Requirement already satisfied: requests<3.0.0,>=2.30.0 in /usr/local/lib/python3.10/dist-packages (from alpaca-py) (2.32.3)\n",
            "Collecting sseclient-py<2.0.0,>=1.7.2 (from alpaca-py)\n",
            "  Downloading sseclient_py-1.8.0-py2.py3-none-any.whl.metadata (2.0 kB)\n",
            "Collecting websockets>=10.4 (from alpaca-py)\n",
            "  Downloading websockets-14.1-cp310-cp310-manylinux_2_5_x86_64.manylinux1_x86_64.manylinux_2_17_x86_64.manylinux2014_x86_64.whl.metadata (6.7 kB)\n",
            "Requirement already satisfied: numpy>=1.22.4 in /usr/local/lib/python3.10/dist-packages (from pandas>=1.5.3->alpaca-py) (1.26.4)\n",
            "Requirement already satisfied: python-dateutil>=2.8.2 in /usr/local/lib/python3.10/dist-packages (from pandas>=1.5.3->alpaca-py) (2.8.2)\n",
            "Requirement already satisfied: pytz>=2020.1 in /usr/local/lib/python3.10/dist-packages (from pandas>=1.5.3->alpaca-py) (2024.2)\n",
            "Requirement already satisfied: tzdata>=2022.7 in /usr/local/lib/python3.10/dist-packages (from pandas>=1.5.3->alpaca-py) (2024.2)\n",
            "Requirement already satisfied: annotated-types>=0.6.0 in /usr/local/lib/python3.10/dist-packages (from pydantic<3.0.0,>=2.0.3->alpaca-py) (0.7.0)\n",
            "Requirement already satisfied: pydantic-core==2.27.1 in /usr/local/lib/python3.10/dist-packages (from pydantic<3.0.0,>=2.0.3->alpaca-py) (2.27.1)\n",
            "Requirement already satisfied: typing-extensions>=4.12.2 in /usr/local/lib/python3.10/dist-packages (from pydantic<3.0.0,>=2.0.3->alpaca-py) (4.12.2)\n",
            "Requirement already satisfied: charset-normalizer<4,>=2 in /usr/local/lib/python3.10/dist-packages (from requests<3.0.0,>=2.30.0->alpaca-py) (3.4.0)\n",
            "Requirement already satisfied: idna<4,>=2.5 in /usr/local/lib/python3.10/dist-packages (from requests<3.0.0,>=2.30.0->alpaca-py) (3.10)\n",
            "Requirement already satisfied: urllib3<3,>=1.21.1 in /usr/local/lib/python3.10/dist-packages (from requests<3.0.0,>=2.30.0->alpaca-py) (2.2.3)\n",
            "Requirement already satisfied: certifi>=2017.4.17 in /usr/local/lib/python3.10/dist-packages (from requests<3.0.0,>=2.30.0->alpaca-py) (2024.8.30)\n",
            "Requirement already satisfied: six>=1.5 in /usr/local/lib/python3.10/dist-packages (from python-dateutil>=2.8.2->pandas>=1.5.3->alpaca-py) (1.16.0)\n",
            "Downloading alpaca_py-0.34.0-py3-none-any.whl (120 kB)\n",
            "\u001b[2K   \u001b[90m━━━━━━━━━━━━━━━━━━━━━━━━━━━━━━━━━━━━━━━━\u001b[0m \u001b[32m120.4/120.4 kB\u001b[0m \u001b[31m3.4 MB/s\u001b[0m eta \u001b[36m0:00:00\u001b[0m\n",
            "\u001b[?25hDownloading sseclient_py-1.8.0-py2.py3-none-any.whl (8.8 kB)\n",
            "Downloading websockets-14.1-cp310-cp310-manylinux_2_5_x86_64.manylinux1_x86_64.manylinux_2_17_x86_64.manylinux2014_x86_64.whl (168 kB)\n",
            "\u001b[2K   \u001b[90m━━━━━━━━━━━━━━━━━━━━━━━━━━━━━━━━━━━━━━━━\u001b[0m \u001b[32m168.2/168.2 kB\u001b[0m \u001b[31m7.3 MB/s\u001b[0m eta \u001b[36m0:00:00\u001b[0m\n",
            "\u001b[?25hInstalling collected packages: sseclient-py, websockets, alpaca-py\n",
            "Successfully installed alpaca-py-0.34.0 sseclient-py-1.8.0 websockets-14.1\n"
          ]
        }
      ],
      "source": [
        "# install alpaca-py\n",
        "! python3 -m pip install alpaca-py"
      ]
    },
    {
      "cell_type": "code",
      "execution_count": 3,
      "metadata": {
        "id": "pj2mt3C3YUmb"
      },
      "outputs": [],
      "source": [
        "import json\n",
        "from datetime import datetime, timedelta\n",
        "from zoneinfo import ZoneInfo\n",
        "\n",
        "import alpaca\n",
        "from alpaca.trading.client import TradingClient\n",
        "from alpaca.data.timeframe import TimeFrame, TimeFrameUnit\n",
        "from alpaca.data.historical.crypto import CryptoHistoricalDataClient\n",
        "from alpaca.trading.stream import TradingStream\n",
        "from alpaca.data.live.crypto import CryptoDataStream\n",
        "\n",
        "from alpaca.data.requests import (\n",
        "    CryptoBarsRequest,\n",
        "    CryptoQuoteRequest,\n",
        "    CryptoTradesRequest,\n",
        "    CryptoLatestQuoteRequest\n",
        "    )\n",
        "from alpaca.trading.requests import (\n",
        "    GetAssetsRequest,\n",
        "    MarketOrderRequest,\n",
        "    LimitOrderRequest,\n",
        "    StopLimitOrderRequest,\n",
        "    GetOrdersRequest,\n",
        "    ClosePositionRequest\n",
        ")\n",
        "from alpaca.trading.enums import (\n",
        "    AssetClass,\n",
        "    AssetStatus,\n",
        "    OrderSide,\n",
        "    OrderType,\n",
        "    TimeInForce,\n",
        "    QueryOrderStatus\n",
        ")\n",
        "from alpaca.common.exceptions import APIError"
      ]
    },
    {
      "cell_type": "code",
      "execution_count": 4,
      "metadata": {
        "id": "2o9PIBFwYUmc"
      },
      "outputs": [],
      "source": [
        "# to run async code in jupyter notebook\n",
        "import nest_asyncio\n",
        "nest_asyncio.apply()"
      ]
    },
    {
      "cell_type": "code",
      "execution_count": 5,
      "metadata": {
        "colab": {
          "base_uri": "https://localhost:8080/",
          "height": 36
        },
        "id": "ZjWjfozWYUmd",
        "outputId": "766e1098-a70c-4b52-a81b-de882f2a1ab9"
      },
      "outputs": [
        {
          "output_type": "execute_result",
          "data": {
            "text/plain": [
              "'0.34.0'"
            ],
            "application/vnd.google.colaboratory.intrinsic+json": {
              "type": "string"
            }
          },
          "metadata": {},
          "execution_count": 5
        }
      ],
      "source": [
        "# check version of alpaca-py\n",
        "alpaca.__version__"
      ]
    },
    {
      "cell_type": "markdown",
      "metadata": {
        "id": "-6NClgNUYUme"
      },
      "source": [
        "# Trading Client"
      ]
    },
    {
      "cell_type": "code",
      "execution_count": 6,
      "metadata": {
        "id": "FeA_Zii6YUme"
      },
      "outputs": [],
      "source": [
        "# setup clients\n",
        "trade_client = TradingClient(api_key=api_key, secret_key=secret_key, paper=paper, url_override=trade_api_url)"
      ]
    },
    {
      "cell_type": "code",
      "execution_count": 7,
      "metadata": {
        "colab": {
          "base_uri": "https://localhost:8080/"
        },
        "id": "mKd--SmsYUmf",
        "outputId": "f06c2f4c-b0b0-448d-884e-662bf4b1d8e7"
      },
      "outputs": [
        {
          "output_type": "execute_result",
          "data": {
            "text/plain": [
              "{   'account_blocked': False,\n",
              "    'account_number': 'PA3UQDPSHTQR',\n",
              "    'accrued_fees': '0',\n",
              "    'buying_power': '200000',\n",
              "    'cash': '100000',\n",
              "    'created_at': datetime.datetime(2024, 12, 10, 20, 8, 23, 440087, tzinfo=TzInfo(UTC)),\n",
              "    'crypto_status': <AccountStatus.ACTIVE: 'ACTIVE'>,\n",
              "    'currency': 'USD',\n",
              "    'daytrade_count': 0,\n",
              "    'daytrading_buying_power': '0',\n",
              "    'equity': '100000',\n",
              "    'id': UUID('e8a1221d-e393-47f0-a9d8-8c7e892cfa72'),\n",
              "    'initial_margin': '0',\n",
              "    'last_equity': '100000',\n",
              "    'last_maintenance_margin': '0',\n",
              "    'long_market_value': '0',\n",
              "    'maintenance_margin': '0',\n",
              "    'multiplier': '2',\n",
              "    'non_marginable_buying_power': '100000',\n",
              "    'options_approved_level': 2,\n",
              "    'options_buying_power': '100000',\n",
              "    'options_trading_level': 2,\n",
              "    'pattern_day_trader': False,\n",
              "    'pending_transfer_in': None,\n",
              "    'pending_transfer_out': None,\n",
              "    'portfolio_value': '100000',\n",
              "    'regt_buying_power': '200000',\n",
              "    'short_market_value': '0',\n",
              "    'shorting_enabled': True,\n",
              "    'sma': '0',\n",
              "    'status': <AccountStatus.ACTIVE: 'ACTIVE'>,\n",
              "    'trade_suspended_by_user': False,\n",
              "    'trading_blocked': False,\n",
              "    'transfers_blocked': False}"
            ]
          },
          "metadata": {},
          "execution_count": 7
        }
      ],
      "source": [
        "# check trading account\n",
        "# You can check definition of each field in the following documents\n",
        "# ref. https://docs.alpaca.markets/docs/account-plans\n",
        "# ref. https://docs.alpaca.markets/reference/getaccount-1\n",
        "acct = trade_client.get_account()\n",
        "acct"
      ]
    },
    {
      "cell_type": "code",
      "execution_count": 8,
      "metadata": {
        "colab": {
          "base_uri": "https://localhost:8080/"
        },
        "id": "ptv0uKhXYUmf",
        "outputId": "af0485f9-75b9-4cb5-8238-c1b7a5d5fc19"
      },
      "outputs": [
        {
          "output_type": "execute_result",
          "data": {
            "text/plain": [
              "{   'dtbp_check': <DTBPCheck.ENTRY: 'entry'>,\n",
              "    'fractional_trading': True,\n",
              "    'max_margin_multiplier': '4',\n",
              "    'max_options_trading_level': None,\n",
              "    'no_shorting': False,\n",
              "    'pdt_check': <PDTCheck.ENTRY: 'entry'>,\n",
              "    'ptp_no_exception_entry': False,\n",
              "    'suspend_trade': False,\n",
              "    'trade_confirm_email': <TradeConfirmationEmail.ALL: 'all'>}"
            ]
          },
          "metadata": {},
          "execution_count": 8
        }
      ],
      "source": [
        "# check account configuration\n",
        "# ref. https://docs.alpaca.markets/reference/getaccountconfig-1\n",
        "acct_config = trade_client.get_account_configurations()\n",
        "acct_config"
      ]
    },
    {
      "cell_type": "code",
      "execution_count": 9,
      "metadata": {
        "colab": {
          "base_uri": "https://localhost:8080/"
        },
        "id": "oepCNN6fYUmg",
        "outputId": "db2eb835-4c97-4342-a288-94b20797c3c0"
      },
      "outputs": [
        {
          "output_type": "execute_result",
          "data": {
            "text/plain": [
              "[{   'asset_class': <AssetClass.CRYPTO: 'crypto'>,\n",
              "     'attributes': [],\n",
              "     'easy_to_borrow': False,\n",
              "     'exchange': <AssetExchange.CRYPTO: 'CRYPTO'>,\n",
              "     'fractionable': True,\n",
              "     'id': UUID('0515189d-1933-4a94-89ce-4e9a24356d58'),\n",
              "     'maintenance_margin_requirement': 100.0,\n",
              "     'marginable': False,\n",
              "     'min_order_size': 0.022640449,\n",
              "     'min_trade_increment': 1e-09,\n",
              "     'name': 'Avalanche / US Dollar',\n",
              "     'price_increment': 0.0005,\n",
              "     'shortable': False,\n",
              "     'status': <AssetStatus.ACTIVE: 'active'>,\n",
              "     'symbol': 'AVAX/USD',\n",
              "     'tradable': True},\n",
              " {   'asset_class': <AssetClass.CRYPTO: 'crypto'>,\n",
              "     'attributes': [],\n",
              "     'easy_to_borrow': False,\n",
              "     'exchange': <AssetExchange.CRYPTO: 'CRYPTO'>,\n",
              "     'fractionable': True,\n",
              "     'id': UUID('90a83e2d-e574-404b-9344-74130736b71c'),\n",
              "     'maintenance_margin_requirement': 100.0,\n",
              "     'marginable': False,\n",
              "     'min_order_size': 0.000532708,\n",
              "     'min_trade_increment': 1e-09,\n",
              "     'name': 'Maker / US Dollar',\n",
              "     'price_increment': 0.5,\n",
              "     'shortable': False,\n",
              "     'status': <AssetStatus.ACTIVE: 'active'>,\n",
              "     'symbol': 'MKR/USD',\n",
              "     'tradable': True}]"
            ]
          },
          "metadata": {},
          "execution_count": 9
        }
      ],
      "source": [
        "# get list of crypto pairs\n",
        "# ref. https://docs.alpaca.markets/reference/get-v2-assets-1\n",
        "req = GetAssetsRequest(\n",
        "  asset_class=AssetClass.CRYPTO,\n",
        "  status=AssetStatus.ACTIVE\n",
        ")\n",
        "assets = trade_client.get_all_assets(req)\n",
        "assets[:2]"
      ]
    },
    {
      "cell_type": "markdown",
      "metadata": {
        "id": "KO7StJ0GYUmg"
      },
      "source": [
        "### Orders"
      ]
    },
    {
      "cell_type": "code",
      "execution_count": 10,
      "metadata": {
        "id": "zkSzFQAYYUmg"
      },
      "outputs": [],
      "source": [
        "# we will place orders which Alapca trading platform supports\n",
        "# - order types for crypto: market, limit, stop_limit\n",
        "# - time_in_force for crypto: gtc, ioc.\n",
        "# please refer to the following documents for more details\n",
        "# ref. https://docs.alpaca.markets/docs/orders-at-alpaca\n",
        "# ref. https://docs.alpaca.markets/reference/postorder\n",
        "\n",
        "\n",
        "# we will place orders for symbol: BTC/USD in this example\n",
        "symbol = \"BTC/USD\""
      ]
    },
    {
      "cell_type": "code",
      "execution_count": 11,
      "metadata": {
        "colab": {
          "base_uri": "https://localhost:8080/"
        },
        "id": "k0URNaOcYUmh",
        "outputId": "49370538-2b6c-4331-f1e5-7376fc9ddf72"
      },
      "outputs": [
        {
          "output_type": "execute_result",
          "data": {
            "text/plain": [
              "{   'asset_class': <AssetClass.CRYPTO: 'crypto'>,\n",
              "    'asset_id': UUID('276e2673-764b-4ab6-a611-caf665ca6340'),\n",
              "    'canceled_at': None,\n",
              "    'client_order_id': '70ef58f9-80da-460c-8997-9636462bd8f7',\n",
              "    'created_at': datetime.datetime(2024, 12, 10, 21, 8, 7, 521771, tzinfo=TzInfo(UTC)),\n",
              "    'expired_at': None,\n",
              "    'extended_hours': False,\n",
              "    'failed_at': None,\n",
              "    'filled_at': None,\n",
              "    'filled_avg_price': None,\n",
              "    'filled_qty': '0',\n",
              "    'hwm': None,\n",
              "    'id': UUID('e0e08a32-cdb0-414f-880d-fc5c6f2eb47d'),\n",
              "    'legs': None,\n",
              "    'limit_price': None,\n",
              "    'notional': None,\n",
              "    'order_class': <OrderClass.SIMPLE: 'simple'>,\n",
              "    'order_type': <OrderType.MARKET: 'market'>,\n",
              "    'qty': '0.01',\n",
              "    'replaced_at': None,\n",
              "    'replaced_by': None,\n",
              "    'replaces': None,\n",
              "    'side': <OrderSide.BUY: 'buy'>,\n",
              "    'status': <OrderStatus.PENDING_NEW: 'pending_new'>,\n",
              "    'stop_price': None,\n",
              "    'submitted_at': datetime.datetime(2024, 12, 10, 21, 8, 7, 521771, tzinfo=TzInfo(UTC)),\n",
              "    'symbol': 'BTC/USD',\n",
              "    'time_in_force': <TimeInForce.GTC: 'gtc'>,\n",
              "    'trail_percent': None,\n",
              "    'trail_price': None,\n",
              "    'type': <OrderType.MARKET: 'market'>,\n",
              "    'updated_at': datetime.datetime(2024, 12, 10, 21, 8, 7, 547828, tzinfo=TzInfo(UTC))}"
            ]
          },
          "metadata": {},
          "execution_count": 11
        }
      ],
      "source": [
        "# simple, market order\n",
        "# you can specify:\n",
        "# or notional value (e.g. 100 USD) (which is in the next example)\n",
        "req = MarketOrderRequest(\n",
        "    symbol = symbol,\n",
        "    qty = 0.01,\n",
        "    side = OrderSide.BUY,\n",
        "    type = OrderType.MARKET,\n",
        "    time_in_force = TimeInForce.GTC,\n",
        ")\n",
        "res = trade_client.submit_order(req)\n",
        "res"
      ]
    },
    {
      "cell_type": "code",
      "execution_count": 12,
      "metadata": {
        "colab": {
          "base_uri": "https://localhost:8080/"
        },
        "id": "fy51luuPYUmh",
        "outputId": "dd6ab14b-7f0c-4fa3-f22a-2441dcb5bfca"
      },
      "outputs": [
        {
          "output_type": "execute_result",
          "data": {
            "text/plain": [
              "{   'asset_class': <AssetClass.CRYPTO: 'crypto'>,\n",
              "    'asset_id': UUID('276e2673-764b-4ab6-a611-caf665ca6340'),\n",
              "    'canceled_at': None,\n",
              "    'client_order_id': 'c2e97b01-3525-49da-9f5c-57672bad0b07',\n",
              "    'created_at': datetime.datetime(2024, 12, 10, 21, 9, 24, 353091, tzinfo=TzInfo(UTC)),\n",
              "    'expired_at': None,\n",
              "    'extended_hours': False,\n",
              "    'failed_at': None,\n",
              "    'filled_at': None,\n",
              "    'filled_avg_price': None,\n",
              "    'filled_qty': '0',\n",
              "    'hwm': None,\n",
              "    'id': UUID('ef94afc8-0828-4dce-b06c-42d926e83444'),\n",
              "    'legs': None,\n",
              "    'limit_price': None,\n",
              "    'notional': '1.11',\n",
              "    'order_class': <OrderClass.SIMPLE: 'simple'>,\n",
              "    'order_type': <OrderType.MARKET: 'market'>,\n",
              "    'qty': None,\n",
              "    'replaced_at': None,\n",
              "    'replaced_by': None,\n",
              "    'replaces': None,\n",
              "    'side': <OrderSide.BUY: 'buy'>,\n",
              "    'status': <OrderStatus.PENDING_NEW: 'pending_new'>,\n",
              "    'stop_price': None,\n",
              "    'submitted_at': datetime.datetime(2024, 12, 10, 21, 9, 24, 353091, tzinfo=TzInfo(UTC)),\n",
              "    'symbol': 'BTC/USD',\n",
              "    'time_in_force': <TimeInForce.GTC: 'gtc'>,\n",
              "    'trail_percent': None,\n",
              "    'trail_price': None,\n",
              "    'type': <OrderType.MARKET: 'market'>,\n",
              "    'updated_at': datetime.datetime(2024, 12, 10, 21, 9, 24, 354696, tzinfo=TzInfo(UTC))}"
            ]
          },
          "metadata": {},
          "execution_count": 12
        }
      ],
      "source": [
        "# simple, market order, notional\n",
        "\n",
        "req = MarketOrderRequest(\n",
        "    symbol = symbol,\n",
        "    notional = 1.11,  # notional is specified in USD, here we specify $1.11\n",
        "    side = OrderSide.BUY,\n",
        "    type = OrderType.MARKET,\n",
        "    time_in_force = TimeInForce.GTC,\n",
        ")\n",
        "res = trade_client.submit_order(req)\n",
        "res"
      ]
    },
    {
      "cell_type": "code",
      "execution_count": 13,
      "metadata": {
        "colab": {
          "base_uri": "https://localhost:8080/"
        },
        "id": "gwFieXfkYUmh",
        "outputId": "bb160cf2-e4af-480b-be2a-f1c4c8387e88"
      },
      "outputs": [
        {
          "output_type": "execute_result",
          "data": {
            "text/plain": [
              "{   'asset_class': <AssetClass.CRYPTO: 'crypto'>,\n",
              "    'asset_id': UUID('276e2673-764b-4ab6-a611-caf665ca6340'),\n",
              "    'canceled_at': None,\n",
              "    'client_order_id': '6fc250aa-5f61-4a4b-b90d-790affd7e70c',\n",
              "    'created_at': datetime.datetime(2024, 12, 10, 21, 9, 30, 692444, tzinfo=TzInfo(UTC)),\n",
              "    'expired_at': None,\n",
              "    'extended_hours': False,\n",
              "    'failed_at': None,\n",
              "    'filled_at': None,\n",
              "    'filled_avg_price': None,\n",
              "    'filled_qty': '0',\n",
              "    'hwm': None,\n",
              "    'id': UUID('5339a138-1d3c-48a0-b83e-5786ce788ffe'),\n",
              "    'legs': None,\n",
              "    'limit_price': '60000',\n",
              "    'notional': None,\n",
              "    'order_class': <OrderClass.SIMPLE: 'simple'>,\n",
              "    'order_type': <OrderType.LIMIT: 'limit'>,\n",
              "    'qty': '0.01',\n",
              "    'replaced_at': None,\n",
              "    'replaced_by': None,\n",
              "    'replaces': None,\n",
              "    'side': <OrderSide.BUY: 'buy'>,\n",
              "    'status': <OrderStatus.PENDING_NEW: 'pending_new'>,\n",
              "    'stop_price': None,\n",
              "    'submitted_at': datetime.datetime(2024, 12, 10, 21, 9, 30, 692444, tzinfo=TzInfo(UTC)),\n",
              "    'symbol': 'BTC/USD',\n",
              "    'time_in_force': <TimeInForce.GTC: 'gtc'>,\n",
              "    'trail_percent': None,\n",
              "    'trail_price': None,\n",
              "    'type': <OrderType.LIMIT: 'limit'>,\n",
              "    'updated_at': datetime.datetime(2024, 12, 10, 21, 9, 30, 693665, tzinfo=TzInfo(UTC))}"
            ]
          },
          "metadata": {},
          "execution_count": 13
        }
      ],
      "source": [
        "# simple, limit order\n",
        "req = LimitOrderRequest(\n",
        "    symbol = symbol,\n",
        "    qty = 0.01,\n",
        "    limit_price = 60000,\n",
        "    side = OrderSide.BUY,\n",
        "    type = OrderType.LIMIT,\n",
        "    time_in_force = TimeInForce.GTC,\n",
        ")\n",
        "res = trade_client.submit_order(req)\n",
        "res"
      ]
    },
    {
      "cell_type": "code",
      "execution_count": 14,
      "metadata": {
        "colab": {
          "base_uri": "https://localhost:8080/"
        },
        "id": "uTD-s6urYUmi",
        "outputId": "501128ca-6494-4bfa-b808-cbe227342e6c"
      },
      "outputs": [
        {
          "output_type": "execute_result",
          "data": {
            "text/plain": [
              "{   'asset_class': <AssetClass.CRYPTO: 'crypto'>,\n",
              "    'asset_id': UUID('276e2673-764b-4ab6-a611-caf665ca6340'),\n",
              "    'canceled_at': None,\n",
              "    'client_order_id': '23d617a9-3dae-4889-aef7-b2f7f78b0ddd',\n",
              "    'created_at': datetime.datetime(2024, 12, 10, 21, 9, 39, 277945, tzinfo=TzInfo(UTC)),\n",
              "    'expired_at': None,\n",
              "    'extended_hours': False,\n",
              "    'failed_at': None,\n",
              "    'filled_at': None,\n",
              "    'filled_avg_price': None,\n",
              "    'filled_qty': '0',\n",
              "    'hwm': None,\n",
              "    'id': UUID('207dbfed-7883-4e36-afa9-2137acc26246'),\n",
              "    'legs': None,\n",
              "    'limit_price': '55000',\n",
              "    'notional': None,\n",
              "    'order_class': <OrderClass.SIMPLE: 'simple'>,\n",
              "    'order_type': <OrderType.STOP_LIMIT: 'stop_limit'>,\n",
              "    'qty': '0.01',\n",
              "    'replaced_at': None,\n",
              "    'replaced_by': None,\n",
              "    'replaces': None,\n",
              "    'side': <OrderSide.BUY: 'buy'>,\n",
              "    'status': <OrderStatus.NEW: 'new'>,\n",
              "    'stop_price': '60000',\n",
              "    'submitted_at': datetime.datetime(2024, 12, 10, 21, 9, 39, 277945, tzinfo=TzInfo(UTC)),\n",
              "    'symbol': 'BTC/USD',\n",
              "    'time_in_force': <TimeInForce.GTC: 'gtc'>,\n",
              "    'trail_percent': None,\n",
              "    'trail_price': None,\n",
              "    'type': <OrderType.STOP_LIMIT: 'stop_limit'>,\n",
              "    'updated_at': datetime.datetime(2024, 12, 10, 21, 9, 39, 278849, tzinfo=TzInfo(UTC))}"
            ]
          },
          "metadata": {},
          "execution_count": 14
        }
      ],
      "source": [
        "# stop limit order\n",
        "req = StopLimitOrderRequest(\n",
        "                    symbol = symbol,\n",
        "                    qty = 0.01,\n",
        "                    side = OrderSide.BUY,\n",
        "                    time_in_force = TimeInForce.GTC,\n",
        "                    limit_price = 55000,\n",
        "                    stop_price = 60000\n",
        "                    )\n",
        "\n",
        "res = trade_client.submit_order(req)\n",
        "res"
      ]
    },
    {
      "cell_type": "code",
      "execution_count": 15,
      "metadata": {
        "colab": {
          "base_uri": "https://localhost:8080/"
        },
        "id": "1CFz16eZYUmi",
        "outputId": "291615cf-55dc-499a-c461-f999396cbc91"
      },
      "outputs": [
        {
          "output_type": "execute_result",
          "data": {
            "text/plain": [
              "[{   'asset_class': <AssetClass.CRYPTO: 'crypto'>,\n",
              "     'asset_id': UUID('276e2673-764b-4ab6-a611-caf665ca6340'),\n",
              "     'canceled_at': None,\n",
              "     'client_order_id': '23d617a9-3dae-4889-aef7-b2f7f78b0ddd',\n",
              "     'created_at': datetime.datetime(2024, 12, 10, 21, 9, 39, 277945, tzinfo=TzInfo(UTC)),\n",
              "     'expired_at': None,\n",
              "     'extended_hours': False,\n",
              "     'failed_at': None,\n",
              "     'filled_at': None,\n",
              "     'filled_avg_price': None,\n",
              "     'filled_qty': '0',\n",
              "     'hwm': None,\n",
              "     'id': UUID('207dbfed-7883-4e36-afa9-2137acc26246'),\n",
              "     'legs': None,\n",
              "     'limit_price': '55000',\n",
              "     'notional': None,\n",
              "     'order_class': <OrderClass.SIMPLE: 'simple'>,\n",
              "     'order_type': <OrderType.STOP_LIMIT: 'stop_limit'>,\n",
              "     'qty': '0.01',\n",
              "     'replaced_at': None,\n",
              "     'replaced_by': None,\n",
              "     'replaces': None,\n",
              "     'side': <OrderSide.BUY: 'buy'>,\n",
              "     'status': <OrderStatus.NEW: 'new'>,\n",
              "     'stop_price': '60000',\n",
              "     'submitted_at': datetime.datetime(2024, 12, 10, 21, 9, 39, 277945, tzinfo=TzInfo(UTC)),\n",
              "     'symbol': 'BTC/USD',\n",
              "     'time_in_force': <TimeInForce.GTC: 'gtc'>,\n",
              "     'trail_percent': None,\n",
              "     'trail_price': None,\n",
              "     'type': <OrderType.STOP_LIMIT: 'stop_limit'>,\n",
              "     'updated_at': datetime.datetime(2024, 12, 10, 21, 9, 39, 278849, tzinfo=TzInfo(UTC))},\n",
              " {   'asset_class': <AssetClass.CRYPTO: 'crypto'>,\n",
              "     'asset_id': UUID('276e2673-764b-4ab6-a611-caf665ca6340'),\n",
              "     'canceled_at': None,\n",
              "     'client_order_id': '6fc250aa-5f61-4a4b-b90d-790affd7e70c',\n",
              "     'created_at': datetime.datetime(2024, 12, 10, 21, 9, 30, 692445, tzinfo=TzInfo(UTC)),\n",
              "     'expired_at': None,\n",
              "     'extended_hours': False,\n",
              "     'failed_at': None,\n",
              "     'filled_at': None,\n",
              "     'filled_avg_price': None,\n",
              "     'filled_qty': '0',\n",
              "     'hwm': None,\n",
              "     'id': UUID('5339a138-1d3c-48a0-b83e-5786ce788ffe'),\n",
              "     'legs': None,\n",
              "     'limit_price': '60000',\n",
              "     'notional': None,\n",
              "     'order_class': <OrderClass.SIMPLE: 'simple'>,\n",
              "     'order_type': <OrderType.LIMIT: 'limit'>,\n",
              "     'qty': '0.01',\n",
              "     'replaced_at': None,\n",
              "     'replaced_by': None,\n",
              "     'replaces': None,\n",
              "     'side': <OrderSide.BUY: 'buy'>,\n",
              "     'status': <OrderStatus.NEW: 'new'>,\n",
              "     'stop_price': None,\n",
              "     'submitted_at': datetime.datetime(2024, 12, 10, 21, 9, 30, 692445, tzinfo=TzInfo(UTC)),\n",
              "     'symbol': 'BTC/USD',\n",
              "     'time_in_force': <TimeInForce.GTC: 'gtc'>,\n",
              "     'trail_percent': None,\n",
              "     'trail_price': None,\n",
              "     'type': <OrderType.LIMIT: 'limit'>,\n",
              "     'updated_at': datetime.datetime(2024, 12, 10, 21, 9, 30, 717544, tzinfo=TzInfo(UTC))},\n",
              " {   'asset_class': <AssetClass.CRYPTO: 'crypto'>,\n",
              "     'asset_id': UUID('276e2673-764b-4ab6-a611-caf665ca6340'),\n",
              "     'canceled_at': None,\n",
              "     'client_order_id': 'c2e97b01-3525-49da-9f5c-57672bad0b07',\n",
              "     'created_at': datetime.datetime(2024, 12, 10, 21, 9, 24, 353092, tzinfo=TzInfo(UTC)),\n",
              "     'expired_at': None,\n",
              "     'extended_hours': False,\n",
              "     'failed_at': None,\n",
              "     'filled_at': datetime.datetime(2024, 12, 10, 21, 9, 24, 357135, tzinfo=TzInfo(UTC)),\n",
              "     'filled_avg_price': '96810.8',\n",
              "     'filled_qty': '0.000011238',\n",
              "     'hwm': None,\n",
              "     'id': UUID('ef94afc8-0828-4dce-b06c-42d926e83444'),\n",
              "     'legs': None,\n",
              "     'limit_price': None,\n",
              "     'notional': '1.11',\n",
              "     'order_class': <OrderClass.SIMPLE: 'simple'>,\n",
              "     'order_type': <OrderType.MARKET: 'market'>,\n",
              "     'qty': None,\n",
              "     'replaced_at': None,\n",
              "     'replaced_by': None,\n",
              "     'replaces': None,\n",
              "     'side': <OrderSide.BUY: 'buy'>,\n",
              "     'status': <OrderStatus.FILLED: 'filled'>,\n",
              "     'stop_price': None,\n",
              "     'submitted_at': datetime.datetime(2024, 12, 10, 21, 9, 24, 353092, tzinfo=TzInfo(UTC)),\n",
              "     'symbol': 'BTC/USD',\n",
              "     'time_in_force': <TimeInForce.GTC: 'gtc'>,\n",
              "     'trail_percent': None,\n",
              "     'trail_price': None,\n",
              "     'type': <OrderType.MARKET: 'market'>,\n",
              "     'updated_at': datetime.datetime(2024, 12, 10, 21, 9, 24, 367749, tzinfo=TzInfo(UTC))},\n",
              " {   'asset_class': <AssetClass.CRYPTO: 'crypto'>,\n",
              "     'asset_id': UUID('276e2673-764b-4ab6-a611-caf665ca6340'),\n",
              "     'canceled_at': None,\n",
              "     'client_order_id': '70ef58f9-80da-460c-8997-9636462bd8f7',\n",
              "     'created_at': datetime.datetime(2024, 12, 10, 21, 8, 7, 521771, tzinfo=TzInfo(UTC)),\n",
              "     'expired_at': None,\n",
              "     'extended_hours': False,\n",
              "     'failed_at': None,\n",
              "     'filled_at': datetime.datetime(2024, 12, 10, 21, 8, 7, 550271, tzinfo=TzInfo(UTC)),\n",
              "     'filled_avg_price': '96820.143',\n",
              "     'filled_qty': '0.01',\n",
              "     'hwm': None,\n",
              "     'id': UUID('e0e08a32-cdb0-414f-880d-fc5c6f2eb47d'),\n",
              "     'legs': None,\n",
              "     'limit_price': None,\n",
              "     'notional': None,\n",
              "     'order_class': <OrderClass.SIMPLE: 'simple'>,\n",
              "     'order_type': <OrderType.MARKET: 'market'>,\n",
              "     'qty': '0.01',\n",
              "     'replaced_at': None,\n",
              "     'replaced_by': None,\n",
              "     'replaces': None,\n",
              "     'side': <OrderSide.BUY: 'buy'>,\n",
              "     'status': <OrderStatus.FILLED: 'filled'>,\n",
              "     'stop_price': None,\n",
              "     'submitted_at': datetime.datetime(2024, 12, 10, 21, 8, 7, 521771, tzinfo=TzInfo(UTC)),\n",
              "     'symbol': 'BTC/USD',\n",
              "     'time_in_force': <TimeInForce.GTC: 'gtc'>,\n",
              "     'trail_percent': None,\n",
              "     'trail_price': None,\n",
              "     'type': <OrderType.MARKET: 'market'>,\n",
              "     'updated_at': datetime.datetime(2024, 12, 10, 21, 8, 7, 567643, tzinfo=TzInfo(UTC))}]"
            ]
          },
          "metadata": {},
          "execution_count": 15
        }
      ],
      "source": [
        "# get a list of orders including closed (e.g. filled) orders by specifying symbol\n",
        "req = GetOrdersRequest(\n",
        "    status = QueryOrderStatus.ALL,\n",
        "    symbols = [symbol]\n",
        ")\n",
        "orders = trade_client.get_orders(req)\n",
        "orders"
      ]
    },
    {
      "cell_type": "code",
      "execution_count": 16,
      "metadata": {
        "colab": {
          "base_uri": "https://localhost:8080/"
        },
        "id": "aa1KVxbaYUmi",
        "outputId": "3e3414d0-4080-4bbf-fb54-aacfeb48992d"
      },
      "outputs": [
        {
          "output_type": "execute_result",
          "data": {
            "text/plain": [
              "[{   'asset_class': <AssetClass.CRYPTO: 'crypto'>,\n",
              "     'asset_id': UUID('276e2673-764b-4ab6-a611-caf665ca6340'),\n",
              "     'canceled_at': None,\n",
              "     'client_order_id': '23d617a9-3dae-4889-aef7-b2f7f78b0ddd',\n",
              "     'created_at': datetime.datetime(2024, 12, 10, 21, 9, 39, 277945, tzinfo=TzInfo(UTC)),\n",
              "     'expired_at': None,\n",
              "     'extended_hours': False,\n",
              "     'failed_at': None,\n",
              "     'filled_at': None,\n",
              "     'filled_avg_price': None,\n",
              "     'filled_qty': '0',\n",
              "     'hwm': None,\n",
              "     'id': UUID('207dbfed-7883-4e36-afa9-2137acc26246'),\n",
              "     'legs': None,\n",
              "     'limit_price': '55000',\n",
              "     'notional': None,\n",
              "     'order_class': <OrderClass.SIMPLE: 'simple'>,\n",
              "     'order_type': <OrderType.STOP_LIMIT: 'stop_limit'>,\n",
              "     'qty': '0.01',\n",
              "     'replaced_at': None,\n",
              "     'replaced_by': None,\n",
              "     'replaces': None,\n",
              "     'side': <OrderSide.BUY: 'buy'>,\n",
              "     'status': <OrderStatus.NEW: 'new'>,\n",
              "     'stop_price': '60000',\n",
              "     'submitted_at': datetime.datetime(2024, 12, 10, 21, 9, 39, 277945, tzinfo=TzInfo(UTC)),\n",
              "     'symbol': 'BTC/USD',\n",
              "     'time_in_force': <TimeInForce.GTC: 'gtc'>,\n",
              "     'trail_percent': None,\n",
              "     'trail_price': None,\n",
              "     'type': <OrderType.STOP_LIMIT: 'stop_limit'>,\n",
              "     'updated_at': datetime.datetime(2024, 12, 10, 21, 9, 39, 278849, tzinfo=TzInfo(UTC))},\n",
              " {   'asset_class': <AssetClass.CRYPTO: 'crypto'>,\n",
              "     'asset_id': UUID('276e2673-764b-4ab6-a611-caf665ca6340'),\n",
              "     'canceled_at': None,\n",
              "     'client_order_id': '6fc250aa-5f61-4a4b-b90d-790affd7e70c',\n",
              "     'created_at': datetime.datetime(2024, 12, 10, 21, 9, 30, 692445, tzinfo=TzInfo(UTC)),\n",
              "     'expired_at': None,\n",
              "     'extended_hours': False,\n",
              "     'failed_at': None,\n",
              "     'filled_at': None,\n",
              "     'filled_avg_price': None,\n",
              "     'filled_qty': '0',\n",
              "     'hwm': None,\n",
              "     'id': UUID('5339a138-1d3c-48a0-b83e-5786ce788ffe'),\n",
              "     'legs': None,\n",
              "     'limit_price': '60000',\n",
              "     'notional': None,\n",
              "     'order_class': <OrderClass.SIMPLE: 'simple'>,\n",
              "     'order_type': <OrderType.LIMIT: 'limit'>,\n",
              "     'qty': '0.01',\n",
              "     'replaced_at': None,\n",
              "     'replaced_by': None,\n",
              "     'replaces': None,\n",
              "     'side': <OrderSide.BUY: 'buy'>,\n",
              "     'status': <OrderStatus.NEW: 'new'>,\n",
              "     'stop_price': None,\n",
              "     'submitted_at': datetime.datetime(2024, 12, 10, 21, 9, 30, 692445, tzinfo=TzInfo(UTC)),\n",
              "     'symbol': 'BTC/USD',\n",
              "     'time_in_force': <TimeInForce.GTC: 'gtc'>,\n",
              "     'trail_percent': None,\n",
              "     'trail_price': None,\n",
              "     'type': <OrderType.LIMIT: 'limit'>,\n",
              "     'updated_at': datetime.datetime(2024, 12, 10, 21, 9, 30, 717544, tzinfo=TzInfo(UTC))}]"
            ]
          },
          "metadata": {},
          "execution_count": 16
        }
      ],
      "source": [
        "# see all open orders\n",
        "req = GetOrdersRequest(\n",
        "    status = QueryOrderStatus.OPEN,\n",
        "    symbols = [symbol]\n",
        ")\n",
        "open_orders = trade_client.get_orders(req)\n",
        "open_orders"
      ]
    },
    {
      "cell_type": "code",
      "execution_count": 17,
      "metadata": {
        "colab": {
          "base_uri": "https://localhost:8080/"
        },
        "id": "3fYhf4s3YUmj",
        "outputId": "2aa583c5-2668-45e2-8c95-e7b7370db53a"
      },
      "outputs": [
        {
          "output_type": "execute_result",
          "data": {
            "text/plain": [
              "[{   'body': None,\n",
              "     'id': UUID('207dbfed-7883-4e36-afa9-2137acc26246'),\n",
              "     'status': 200},\n",
              " {   'body': None,\n",
              "     'id': UUID('5339a138-1d3c-48a0-b83e-5786ce788ffe'),\n",
              "     'status': 200}]"
            ]
          },
          "metadata": {},
          "execution_count": 17
        }
      ],
      "source": [
        "# cancel all open orders\n",
        "trade_client.cancel_orders()"
      ]
    },
    {
      "cell_type": "markdown",
      "metadata": {
        "id": "APNhoP5XYUmj"
      },
      "source": [
        "### Positions"
      ]
    },
    {
      "cell_type": "code",
      "execution_count": 18,
      "metadata": {
        "colab": {
          "base_uri": "https://localhost:8080/"
        },
        "id": "QeLysUCJYUmj",
        "outputId": "3ffd2f5f-8e5a-4f2c-d478-b56c8d1233a3"
      },
      "outputs": [
        {
          "output_type": "execute_result",
          "data": {
            "text/plain": [
              "[{   'asset_class': <AssetClass.CRYPTO: 'crypto'>,\n",
              "     'asset_id': UUID('64bbff51-59d6-4b3c-9351-13ad85e3c752'),\n",
              "     'asset_marginable': False,\n",
              "     'avg_entry_price': '96820.132512969',\n",
              "     'avg_entry_swap_rate': None,\n",
              "     'change_today': '-0.0066384878028714',\n",
              "     'cost_basis': '966.866079',\n",
              "     'current_price': '96590.5',\n",
              "     'exchange': <AssetExchange.CRYPTO: 'CRYPTO'>,\n",
              "     'lastday_price': '97236',\n",
              "     'market_value': '964.57292',\n",
              "     'qty': '0.009986209',\n",
              "     'qty_available': '0.009986209',\n",
              "     'side': <PositionSide.LONG: 'long'>,\n",
              "     'swap_rate': None,\n",
              "     'symbol': 'BTCUSD',\n",
              "     'unrealized_intraday_pl': '-2.293159',\n",
              "     'unrealized_intraday_plpc': '-0.0023717441844394',\n",
              "     'unrealized_pl': '-2.293159',\n",
              "     'unrealized_plpc': '-0.0023717441844394',\n",
              "     'usd': None}]"
            ]
          },
          "metadata": {},
          "execution_count": 18
        }
      ],
      "source": [
        "# get all open positions\n",
        "# ref. https://docs.alpaca.markets/reference/getallopenpositions-1\n",
        "positions = trade_client.get_all_positions()\n",
        "positions"
      ]
    },
    {
      "cell_type": "code",
      "execution_count": 19,
      "metadata": {
        "colab": {
          "base_uri": "https://localhost:8080/",
          "height": 430
        },
        "id": "2Gz488suYUmj",
        "outputId": "4ba005ec-1b50-4363-9b8a-4422513f691f"
      },
      "outputs": [
        {
          "output_type": "error",
          "ename": "APIError",
          "evalue": "Not Found",
          "traceback": [
            "\u001b[0;31m---------------------------------------------------------------------------\u001b[0m",
            "\u001b[0;31mHTTPError\u001b[0m                                 Traceback (most recent call last)",
            "\u001b[0;32m/usr/local/lib/python3.10/dist-packages/alpaca/common/rest.py\u001b[0m in \u001b[0;36m_one_request\u001b[0;34m(self, method, url, opts, retry)\u001b[0m\n\u001b[1;32m    197\u001b[0m         \u001b[0;32mtry\u001b[0m\u001b[0;34m:\u001b[0m\u001b[0;34m\u001b[0m\u001b[0;34m\u001b[0m\u001b[0m\n\u001b[0;32m--> 198\u001b[0;31m             \u001b[0mresponse\u001b[0m\u001b[0;34m.\u001b[0m\u001b[0mraise_for_status\u001b[0m\u001b[0;34m(\u001b[0m\u001b[0;34m)\u001b[0m\u001b[0;34m\u001b[0m\u001b[0;34m\u001b[0m\u001b[0m\n\u001b[0m\u001b[1;32m    199\u001b[0m         \u001b[0;32mexcept\u001b[0m \u001b[0mHTTPError\u001b[0m \u001b[0;32mas\u001b[0m \u001b[0mhttp_error\u001b[0m\u001b[0;34m:\u001b[0m\u001b[0;34m\u001b[0m\u001b[0;34m\u001b[0m\u001b[0m\n",
            "\u001b[0;32m/usr/local/lib/python3.10/dist-packages/requests/models.py\u001b[0m in \u001b[0;36mraise_for_status\u001b[0;34m(self)\u001b[0m\n\u001b[1;32m   1023\u001b[0m         \u001b[0;32mif\u001b[0m \u001b[0mhttp_error_msg\u001b[0m\u001b[0;34m:\u001b[0m\u001b[0;34m\u001b[0m\u001b[0;34m\u001b[0m\u001b[0m\n\u001b[0;32m-> 1024\u001b[0;31m             \u001b[0;32mraise\u001b[0m \u001b[0mHTTPError\u001b[0m\u001b[0;34m(\u001b[0m\u001b[0mhttp_error_msg\u001b[0m\u001b[0;34m,\u001b[0m \u001b[0mresponse\u001b[0m\u001b[0;34m=\u001b[0m\u001b[0mself\u001b[0m\u001b[0;34m)\u001b[0m\u001b[0;34m\u001b[0m\u001b[0;34m\u001b[0m\u001b[0m\n\u001b[0m\u001b[1;32m   1025\u001b[0m \u001b[0;34m\u001b[0m\u001b[0m\n",
            "\u001b[0;31mHTTPError\u001b[0m: 404 Client Error: Not Found for url: https://paper-api.alpaca.markets/v2/positions/BTC/USD",
            "\nDuring handling of the above exception, another exception occurred:\n",
            "\u001b[0;31mAPIError\u001b[0m                                  Traceback (most recent call last)",
            "\u001b[0;32m<ipython-input-19-bdea69feb172>\u001b[0m in \u001b[0;36m<cell line: 3>\u001b[0;34m()\u001b[0m\n\u001b[1;32m      1\u001b[0m \u001b[0;31m# get positions by symbol\u001b[0m\u001b[0;34m\u001b[0m\u001b[0;34m\u001b[0m\u001b[0m\n\u001b[1;32m      2\u001b[0m \u001b[0;31m# ref. https://docs.alpaca.markets/reference/getopenposition-1\u001b[0m\u001b[0;34m\u001b[0m\u001b[0;34m\u001b[0m\u001b[0m\n\u001b[0;32m----> 3\u001b[0;31m \u001b[0mposition\u001b[0m \u001b[0;34m=\u001b[0m \u001b[0mtrade_client\u001b[0m\u001b[0;34m.\u001b[0m\u001b[0mget_open_position\u001b[0m\u001b[0;34m(\u001b[0m\u001b[0msymbol_or_asset_id\u001b[0m\u001b[0;34m=\u001b[0m\u001b[0msymbol\u001b[0m\u001b[0;34m)\u001b[0m\u001b[0;34m\u001b[0m\u001b[0;34m\u001b[0m\u001b[0m\n\u001b[0m\u001b[1;32m      4\u001b[0m \u001b[0mposition\u001b[0m\u001b[0;34m\u001b[0m\u001b[0;34m\u001b[0m\u001b[0m\n",
            "\u001b[0;32m/usr/local/lib/python3.10/dist-packages/alpaca/trading/client.py\u001b[0m in \u001b[0;36mget_open_position\u001b[0;34m(self, symbol_or_asset_id)\u001b[0m\n\u001b[1;32m    262\u001b[0m         \"\"\"\n\u001b[1;32m    263\u001b[0m         \u001b[0msymbol_or_asset_id\u001b[0m \u001b[0;34m=\u001b[0m \u001b[0mvalidate_symbol_or_asset_id\u001b[0m\u001b[0;34m(\u001b[0m\u001b[0msymbol_or_asset_id\u001b[0m\u001b[0;34m)\u001b[0m\u001b[0;34m\u001b[0m\u001b[0;34m\u001b[0m\u001b[0m\n\u001b[0;32m--> 264\u001b[0;31m         \u001b[0mresponse\u001b[0m \u001b[0;34m=\u001b[0m \u001b[0mself\u001b[0m\u001b[0;34m.\u001b[0m\u001b[0mget\u001b[0m\u001b[0;34m(\u001b[0m\u001b[0;34mf\"/positions/{symbol_or_asset_id}\"\u001b[0m\u001b[0;34m)\u001b[0m\u001b[0;34m\u001b[0m\u001b[0;34m\u001b[0m\u001b[0m\n\u001b[0m\u001b[1;32m    265\u001b[0m \u001b[0;34m\u001b[0m\u001b[0m\n\u001b[1;32m    266\u001b[0m         \u001b[0;32mif\u001b[0m \u001b[0mself\u001b[0m\u001b[0;34m.\u001b[0m\u001b[0m_use_raw_data\u001b[0m\u001b[0;34m:\u001b[0m\u001b[0;34m\u001b[0m\u001b[0;34m\u001b[0m\u001b[0m\n",
            "\u001b[0;32m/usr/local/lib/python3.10/dist-packages/alpaca/common/rest.py\u001b[0m in \u001b[0;36mget\u001b[0;34m(self, path, data, **kwargs)\u001b[0m\n\u001b[1;32m    223\u001b[0m             \u001b[0mdict\u001b[0m\u001b[0;34m:\u001b[0m \u001b[0mThe\u001b[0m \u001b[0mresponse\u001b[0m\u001b[0;34m\u001b[0m\u001b[0;34m\u001b[0m\u001b[0m\n\u001b[1;32m    224\u001b[0m         \"\"\"\n\u001b[0;32m--> 225\u001b[0;31m         \u001b[0;32mreturn\u001b[0m \u001b[0mself\u001b[0m\u001b[0;34m.\u001b[0m\u001b[0m_request\u001b[0m\u001b[0;34m(\u001b[0m\u001b[0;34m\"GET\"\u001b[0m\u001b[0;34m,\u001b[0m \u001b[0mpath\u001b[0m\u001b[0;34m,\u001b[0m \u001b[0mdata\u001b[0m\u001b[0;34m,\u001b[0m \u001b[0;34m**\u001b[0m\u001b[0mkwargs\u001b[0m\u001b[0;34m)\u001b[0m\u001b[0;34m\u001b[0m\u001b[0;34m\u001b[0m\u001b[0m\n\u001b[0m\u001b[1;32m    226\u001b[0m \u001b[0;34m\u001b[0m\u001b[0m\n\u001b[1;32m    227\u001b[0m     def post(\n",
            "\u001b[0;32m/usr/local/lib/python3.10/dist-packages/alpaca/common/rest.py\u001b[0m in \u001b[0;36m_request\u001b[0;34m(self, method, path, data, base_url, api_version)\u001b[0m\n\u001b[1;32m    129\u001b[0m         \u001b[0;32mwhile\u001b[0m \u001b[0mretry\u001b[0m \u001b[0;34m>=\u001b[0m \u001b[0;36m0\u001b[0m\u001b[0;34m:\u001b[0m\u001b[0;34m\u001b[0m\u001b[0;34m\u001b[0m\u001b[0m\n\u001b[1;32m    130\u001b[0m             \u001b[0;32mtry\u001b[0m\u001b[0;34m:\u001b[0m\u001b[0;34m\u001b[0m\u001b[0;34m\u001b[0m\u001b[0m\n\u001b[0;32m--> 131\u001b[0;31m                 \u001b[0;32mreturn\u001b[0m \u001b[0mself\u001b[0m\u001b[0;34m.\u001b[0m\u001b[0m_one_request\u001b[0m\u001b[0;34m(\u001b[0m\u001b[0mmethod\u001b[0m\u001b[0;34m,\u001b[0m \u001b[0murl\u001b[0m\u001b[0;34m,\u001b[0m \u001b[0mopts\u001b[0m\u001b[0;34m,\u001b[0m \u001b[0mretry\u001b[0m\u001b[0;34m)\u001b[0m\u001b[0;34m\u001b[0m\u001b[0;34m\u001b[0m\u001b[0m\n\u001b[0m\u001b[1;32m    132\u001b[0m             \u001b[0;32mexcept\u001b[0m \u001b[0mRetryException\u001b[0m\u001b[0;34m:\u001b[0m\u001b[0;34m\u001b[0m\u001b[0;34m\u001b[0m\u001b[0m\n\u001b[1;32m    133\u001b[0m                 \u001b[0mtime\u001b[0m\u001b[0;34m.\u001b[0m\u001b[0msleep\u001b[0m\u001b[0;34m(\u001b[0m\u001b[0mself\u001b[0m\u001b[0;34m.\u001b[0m\u001b[0m_retry_wait\u001b[0m\u001b[0;34m)\u001b[0m\u001b[0;34m\u001b[0m\u001b[0;34m\u001b[0m\u001b[0m\n",
            "\u001b[0;32m/usr/local/lib/python3.10/dist-packages/alpaca/common/rest.py\u001b[0m in \u001b[0;36m_one_request\u001b[0;34m(self, method, url, opts, retry)\u001b[0m\n\u001b[1;32m    205\u001b[0m             \u001b[0merror\u001b[0m \u001b[0;34m=\u001b[0m \u001b[0mresponse\u001b[0m\u001b[0;34m.\u001b[0m\u001b[0mtext\u001b[0m\u001b[0;34m\u001b[0m\u001b[0;34m\u001b[0m\u001b[0m\n\u001b[1;32m    206\u001b[0m \u001b[0;34m\u001b[0m\u001b[0m\n\u001b[0;32m--> 207\u001b[0;31m             \u001b[0;32mraise\u001b[0m \u001b[0mAPIError\u001b[0m\u001b[0;34m(\u001b[0m\u001b[0merror\u001b[0m\u001b[0;34m,\u001b[0m \u001b[0mhttp_error\u001b[0m\u001b[0;34m)\u001b[0m\u001b[0;34m\u001b[0m\u001b[0;34m\u001b[0m\u001b[0m\n\u001b[0m\u001b[1;32m    208\u001b[0m \u001b[0;34m\u001b[0m\u001b[0m\n\u001b[1;32m    209\u001b[0m         \u001b[0;32mif\u001b[0m \u001b[0mresponse\u001b[0m\u001b[0;34m.\u001b[0m\u001b[0mtext\u001b[0m \u001b[0;34m!=\u001b[0m \u001b[0;34m\"\"\u001b[0m\u001b[0;34m:\u001b[0m\u001b[0;34m\u001b[0m\u001b[0;34m\u001b[0m\u001b[0m\n",
            "\u001b[0;31mAPIError\u001b[0m: Not Found"
          ]
        }
      ],
      "source": [
        "# get positions by symbol\n",
        "# ref. https://docs.alpaca.markets/reference/getopenposition-1\n",
        "position = trade_client.get_open_position(symbol_or_asset_id=symbol)\n",
        "position\n"
      ]
    },
    {
      "cell_type": "code",
      "execution_count": null,
      "metadata": {
        "id": "FIW67ZOKYUmk"
      },
      "outputs": [],
      "source": [
        "# get positions by asset_id\n",
        "trade_client.get_open_position(symbol_or_asset_id=position.asset_id)"
      ]
    },
    {
      "cell_type": "code",
      "execution_count": null,
      "metadata": {
        "id": "pFmY-E49YUmk"
      },
      "outputs": [],
      "source": [
        "# close the position with specifying qty\n",
        "# ref. https://docs.alpaca.markets/reference/deleteopenposition-1\n",
        "trade_client.close_position(\n",
        "    symbol_or_asset_id = symbol,\n",
        "    close_options = ClosePositionRequest(\n",
        "        qty = \"0.01\",\n",
        "    )\n",
        ")"
      ]
    },
    {
      "cell_type": "markdown",
      "metadata": {
        "id": "n_vta432YUmk"
      },
      "source": [
        "# Trade Update (Stream)"
      ]
    },
    {
      "cell_type": "markdown",
      "metadata": {
        "id": "1PC8Q2rhYUmk"
      },
      "source": [
        "With TradingStream client, you can get updates about trades\n",
        "\n",
        "You can open this notebook in another window and run below cell to check trade updates."
      ]
    },
    {
      "cell_type": "code",
      "execution_count": null,
      "metadata": {
        "id": "p8-gEEbpYUmk"
      },
      "outputs": [],
      "source": [
        "# subscribe trade updates\n",
        "trade_stream_client = TradingStream(api_key, secret_key, paper=paper, url_override = trade_api_wss)\n",
        "\n",
        "async def trade_updates_handler(data):\n",
        "    print(data)\n",
        "\n",
        "trade_stream_client.subscribe_trade_updates(trade_updates_handler)\n",
        "trade_stream_client.run()"
      ]
    },
    {
      "cell_type": "markdown",
      "metadata": {
        "id": "EucQHmkcYUml"
      },
      "source": [
        "# Market Data (Historical)"
      ]
    },
    {
      "cell_type": "code",
      "execution_count": null,
      "metadata": {
        "id": "1rQoKiYSYUml"
      },
      "outputs": [],
      "source": [
        "# setup crypto historical data client\n",
        "crypto_historical_data_client = CryptoHistoricalDataClient()"
      ]
    },
    {
      "cell_type": "code",
      "execution_count": null,
      "metadata": {
        "id": "hl2doVLmYUml"
      },
      "outputs": [],
      "source": [
        "# get historical bars by symbol\n",
        "# ref. https://docs.alpaca.markets/reference/cryptobars-1\n",
        "now = datetime.now(ZoneInfo(\"America/New_York\"))\n",
        "req = CryptoBarsRequest(\n",
        "    symbol_or_symbols = [symbol],\n",
        "    timeframe=TimeFrame(amount = 1, unit = TimeFrameUnit.Hour), # specify timeframe\n",
        "    start = now - timedelta(days = 1),                          # specify start datetime, default=the beginning of the current day.\n",
        "    # end_date=None,                                        # specify end datetime, default=now\n",
        "    limit = 2,                                               # specify limit\n",
        ")\n",
        "crypto_historical_data_client.get_crypto_bars(req).df"
      ]
    },
    {
      "cell_type": "code",
      "execution_count": null,
      "metadata": {
        "id": "q1ZCVONHYUml"
      },
      "outputs": [],
      "source": [
        "# get historical quote by symbol\n",
        "# ref. https://docs.alpaca.markets/reference/cryptoquotes-1\n",
        "now = datetime.now(ZoneInfo(\"America/New_York\"))\n",
        "req = CryptoQuoteRequest(\n",
        "    symbol_or_symbols = [symbol],\n",
        "    start = now - timedelta(days = 1),                          # specify start datetime, default=the beginning of the current day.\n",
        "    # end_date=None,                                        # specify end datetime, default=now\n",
        "    limit = 2,                                               # specify limit\n",
        ")\n",
        "crypto_historical_data_client.get_crypto_quotes(req).df"
      ]
    },
    {
      "cell_type": "code",
      "execution_count": null,
      "metadata": {
        "id": "bWXD_GH7YUmm"
      },
      "outputs": [],
      "source": [
        "# get historical trades by symbol\n",
        "req = CryptoTradesRequest(\n",
        "    symbol_or_symbols = [symbol],\n",
        "    start = now - timedelta(days = 1),                          # specify start datetime, default=the beginning of the current day.\n",
        "    # end=None,                                             # specify end datetime, default=now\n",
        "    limit = 2,                                                # specify limit\n",
        ")\n",
        "crypto_historical_data_client.get_crypto_trades(req).df"
      ]
    },
    {
      "cell_type": "code",
      "execution_count": null,
      "metadata": {
        "id": "eRgX1A8cYUmm"
      },
      "outputs": [],
      "source": [
        "# get latest quotes by symbol\n",
        "req = CryptoLatestQuoteRequest(\n",
        "    symbol_or_symbols = [symbol],\n",
        ")\n",
        "res = crypto_historical_data_client.get_crypto_latest_quote(req)\n",
        "res"
      ]
    }
  ],
  "metadata": {
    "kernelspec": {
      "display_name": ".venv",
      "language": "python",
      "name": "python3"
    },
    "language_info": {
      "codemirror_mode": {
        "name": "ipython",
        "version": 3
      },
      "file_extension": ".py",
      "mimetype": "text/x-python",
      "name": "python",
      "nbconvert_exporter": "python",
      "pygments_lexer": "ipython3",
      "version": "3.12.2"
    },
    "colab": {
      "provenance": []
    }
  },
  "nbformat": 4,
  "nbformat_minor": 0
}